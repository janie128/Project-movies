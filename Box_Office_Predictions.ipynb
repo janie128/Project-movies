{
 "cells": [
  {
   "cell_type": "markdown",
   "metadata": {},
   "source": [
    "# From Movie Reviews to Box Office\n",
    "Yen-Ting Chen\n",
    "\n",
    "## Overview\n",
    "This project aims to find the correlation between movie box office and movie reviews from Amazon.com. Machine learning models are fitted and reviews used to project a movie's box office.\n",
    "\n",
    "There are three main parts to this project, including 1) data cleaning, 2) data analysis and 3) prediction modeling. Parts of the codes used are shown here, while the rest can be accessed on my [Github repository](https://github.com/janie128/Project-movies)."
   ]
  },
  {
   "cell_type": "markdown",
   "metadata": {},
   "source": [
    "## 1) Data Scraping and Cleaning\n",
    "There are two main data sets used in this project. One is the data set of movies and their box offices<sup>1</sup>, and the second is Amazon review data with their metadata<sup>2-4</sup>. \n",
    "\n",
    "#### Box office data\n",
    "Box office data was scraped from the website for all years and movies."
   ]
  },
  {
   "cell_type": "code",
   "execution_count": null,
   "metadata": {
    "collapsed": true
   },
   "outputs": [],
   "source": []
  },
  {
   "cell_type": "markdown",
   "metadata": {},
   "source": [
    "The data was then filtered to include data only after May 1996, to match the Amazon review data period. Initially, the box office amounts were to be adjusted to account for inflation or cultural factors (such as perhaps higher movie-going culture), by fitting a general (upwards) trend regression analysis and factoring it out. However, over the time period, an increase in the percentage of small films (low-grossing) disrupts any such trend. In Fig. 1, the percentage of films grouped by their box office amounts ($log_{10}(gross)$) over the years is shown.  \n",
    "\n",
    "![](./figures/box_office_years.png)\n",
    "**Fig.1** Box office ($log_{10}(gross)$) sorted into 4 buckets and plotted over years. Percentage of highest grossing movies is decreasing while medium grossing movies are on the rise.\n",
    "\n",
    "Therefore, US inflation rates from 1995-2014 were obtained<sup>5</sup>, and was the only factor used to adjust the gross amount."
   ]
  },
  {
   "cell_type": "markdown",
   "metadata": {},
   "source": [
    "#### Amazon movie review data\n"
   ]
  },
  {
   "cell_type": "markdown",
   "metadata": {},
   "source": [
    "## References\n",
    "1. [Box Office Mojo](http://www.boxofficemojo.com/daily/?view=bymovie&yr=all&sort=title&order=ASC&p=.htm)\n",
    "2. [Dr. Julian McAuley's Amazon product data](http://jmcauley.ucsd.edu/data/amazon/)\n",
    "3. \"Image-based recommendations on styles and substitutes\" J. McAuley, C. Targett, J. Shi, A. van den Hengel; *SIGIR*, 2015\n",
    "4. \"Inferring networks of substitutable and complementary products\" J. McAuley, R. Pandey, J. Leskovec; *Knowledge Discovery and Data Mining*, 2015\n",
    "5. [US Inflation Calculator](http://www.usinflationcalculator.com/inflation/historical-inflation-rates/)"
   ]
  }
 ],
 "metadata": {
  "kernelspec": {
   "display_name": "R",
   "language": "R",
   "name": "ir"
  },
  "language_info": {
   "codemirror_mode": "r",
   "file_extension": ".r",
   "mimetype": "text/x-r-source",
   "name": "R",
   "pygments_lexer": "r",
   "version": "3.2.2"
  }
 },
 "nbformat": 4,
 "nbformat_minor": 0
}
